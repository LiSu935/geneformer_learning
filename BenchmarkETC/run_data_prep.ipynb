{
 "cells": [
  {
   "cell_type": "code",
   "execution_count": 1,
   "id": "18328255-f4df-47c0-9d40-d3ae85ef8f55",
   "metadata": {},
   "outputs": [],
   "source": [
    "import os\n",
    "import scanpy as sc"
   ]
  },
  {
   "cell_type": "code",
   "execution_count": 2,
   "id": "fcb1ef2b-a562-4f39-a438-1c9691cd7e62",
   "metadata": {},
   "outputs": [],
   "source": [
    "import glob\n",
    "import numpy as np"
   ]
  },
  {
   "cell_type": "code",
   "execution_count": 3,
   "id": "4e9bebd5-9cbb-4df3-a7f4-369be010cd38",
   "metadata": {},
   "outputs": [
    {
     "data": {
      "text/plain": [
       "['Untitled.ipynb',\n",
       " 'zheng68k',\n",
       " 'run_data_prep.ipynb',\n",
       " '.ipynb_checkpoints',\n",
       " 'COVID',\n",
       " 'run_seurat_ref_mapping.ipynb',\n",
       " 'Mye',\n",
       " 'ms',\n",
       " 'NSCLC']"
      ]
     },
     "execution_count": 3,
     "metadata": {},
     "output_type": "execute_result"
    }
   ],
   "source": [
    "os.listdir()"
   ]
  },
  {
   "cell_type": "code",
   "execution_count": 4,
   "id": "b6b65995-3e45-4717-8169-bcc3725fd539",
   "metadata": {},
   "outputs": [],
   "source": [
    "# for COVID:\n",
    "prefix = \"NSCLC\"\n",
    "ORI_INPUT_DIR = \"./\"+prefix+\"/\"\n",
    "\n",
    "Train_INPUT_FILE = glob.glob(ORI_INPUT_DIR+\"*_train*.h5ad\")[0]\n",
    "Test_INPUT_FILE = glob.glob(ORI_INPUT_DIR+\"*_test*.h5ad\")[0]\n",
    "\n",
    "file_paths = [Train_INPUT_FILE, Test_INPUT_FILE]\n",
    "\n",
    "file_names = list(map(lambda path: os.path.basename(path), file_paths))\n",
    "#file_names_without_extension = list(map(lambda name: os.path.splitext(name)[0], file_names))\n",
    "\n",
    "# Assigning file names to specific variables\n",
    "train_name, test_name = file_names\n",
    "\n",
    "prefix = os.path.splitext(train_name)[0].split('_')[0]\n"
   ]
  },
  {
   "cell_type": "code",
   "execution_count": 19,
   "id": "5b8f8ef3-b1b4-477e-9d2e-0db3db1f7b02",
   "metadata": {},
   "outputs": [
    {
     "name": "stdout",
     "output_type": "stream",
     "text": [
      "./NSCLC/NSCLC_train_Raw.h5ad\n"
     ]
    }
   ],
   "source": [
    "train_name\n",
    "print(Train_INPUT_FILE)"
   ]
  },
  {
   "cell_type": "code",
   "execution_count": 6,
   "id": "5798d4bb-0aef-4dd1-9c72-157f121ea6d3",
   "metadata": {},
   "outputs": [],
   "source": [
    "import scanpy as sc\n",
    "train_ad = sc.read_h5ad(Train_INPUT_FILE)\n",
    "test_ad = sc.read_h5ad(Test_INPUT_FILE)"
   ]
  },
  {
   "cell_type": "code",
   "execution_count": 7,
   "id": "df6a8398-d375-4799-9973-58a0787707d4",
   "metadata": {},
   "outputs": [
    {
     "data": {
      "text/plain": [
       "AnnData object with n_obs × n_vars = 30812 × 2000\n",
       "    obs: 'orig.ident', 'nCount_RNA', 'nFeature_RNA', 'n_counts', 'cell_type'\n",
       "    var: 'ensembl_id', 'features', 'highly_variable', 'highly_variable_rank', 'means', 'variances', 'variances_norm'\n",
       "    uns: 'hvg'"
      ]
     },
     "execution_count": 7,
     "metadata": {},
     "output_type": "execute_result"
    }
   ],
   "source": [
    "train_ad"
   ]
  },
  {
   "cell_type": "code",
   "execution_count": 93,
   "id": "ddfbbaa8-ee45-4529-a22d-f85ae23ee7c7",
   "metadata": {},
   "outputs": [
    {
     "data": {
      "text/plain": [
       "matrix([[0.        , 2.80359526, 0.        , 0.        , 0.        ,\n",
       "         0.        , 0.        , 0.        , 0.        , 0.        ,\n",
       "         0.        , 0.        , 0.        , 0.        , 0.        ],\n",
       "        [0.        , 0.        , 0.        , 0.        , 0.        ,\n",
       "         0.        , 0.        , 0.        , 2.33489334, 0.        ,\n",
       "         0.        , 0.        , 0.        , 0.        , 0.        ],\n",
       "        [0.        , 0.        , 0.        , 0.        , 0.        ,\n",
       "         0.        , 0.        , 0.        , 0.        , 0.        ,\n",
       "         0.        , 0.        , 0.        , 0.        , 0.        ],\n",
       "        [0.        , 4.37102888, 0.        , 0.        , 0.        ,\n",
       "         0.        , 0.        , 0.        , 0.        , 0.        ,\n",
       "         0.        , 0.        , 0.        , 0.        , 0.        ],\n",
       "        [0.        , 0.        , 0.        , 0.        , 0.        ,\n",
       "         0.        , 0.        , 0.        , 0.        , 0.        ,\n",
       "         0.        , 0.        , 0.        , 0.        , 0.        ],\n",
       "        [0.        , 0.        , 0.        , 0.        , 0.        ,\n",
       "         0.        , 0.        , 0.        , 0.        , 0.        ,\n",
       "         0.        , 0.        , 0.        , 0.        , 0.        ],\n",
       "        [0.        , 0.        , 0.        , 0.        , 0.        ,\n",
       "         0.        , 0.        , 0.        , 0.        , 0.        ,\n",
       "         0.        , 0.        , 0.        , 0.        , 0.        ],\n",
       "        [0.        , 3.17317927, 0.        , 0.        , 0.        ,\n",
       "         0.        , 0.        , 0.        , 0.        , 0.        ,\n",
       "         0.        , 0.        , 0.        , 0.        , 0.        ],\n",
       "        [0.        , 0.        , 0.        , 0.        , 0.        ,\n",
       "         0.        , 0.        , 0.        , 3.42627707, 0.        ,\n",
       "         0.        , 0.        , 0.        , 0.        , 0.        ],\n",
       "        [0.        , 0.        , 0.        , 0.        , 0.        ,\n",
       "         0.        , 0.        , 0.        , 0.        , 0.        ,\n",
       "         0.        , 0.        , 0.        , 0.        , 0.        ],\n",
       "        [0.        , 0.        , 0.        , 0.        , 0.        ,\n",
       "         0.        , 0.        , 0.        , 0.        , 0.        ,\n",
       "         0.        , 0.        , 0.        , 0.        , 0.        ],\n",
       "        [0.        , 0.        , 0.        , 0.        , 0.        ,\n",
       "         0.        , 0.        , 0.        , 0.        , 0.        ,\n",
       "         0.        , 0.        , 0.        , 0.        , 0.        ],\n",
       "        [0.        , 0.        , 0.        , 0.        , 0.        ,\n",
       "         0.        , 0.        , 0.        , 0.        , 0.        ,\n",
       "         0.        , 2.80944029, 0.        , 0.        , 0.        ],\n",
       "        [0.        , 0.        , 0.        , 0.        , 0.        ,\n",
       "         0.        , 0.        , 0.        , 2.28981535, 0.        ,\n",
       "         0.        , 0.        , 0.        , 0.        , 0.        ],\n",
       "        [0.        , 0.        , 0.        , 0.        , 0.        ,\n",
       "         0.        , 0.        , 0.        , 0.        , 0.        ,\n",
       "         0.        , 0.        , 0.        , 0.        , 0.        ],\n",
       "        [0.        , 0.        , 0.        , 0.        , 0.        ,\n",
       "         0.        , 0.        , 0.        , 0.        , 0.        ,\n",
       "         0.        , 0.        , 0.        , 0.        , 0.        ],\n",
       "        [0.        , 0.        , 0.        , 0.        , 0.        ,\n",
       "         0.        , 0.        , 0.        , 0.        , 0.        ,\n",
       "         0.        , 0.        , 0.        , 0.        , 0.        ],\n",
       "        [0.        , 0.        , 1.75087467, 0.        , 0.        ,\n",
       "         0.        , 0.        , 1.75087467, 1.75087467, 0.        ,\n",
       "         0.        , 0.        , 0.        , 0.        , 0.        ],\n",
       "        [0.        , 2.83774251, 0.        , 0.        , 0.        ,\n",
       "         0.        , 0.        , 0.        , 2.83774251, 0.        ,\n",
       "         0.        , 0.        , 0.        , 0.        , 0.        ],\n",
       "        [0.        , 0.        , 0.        , 0.        , 0.        ,\n",
       "         0.        , 0.        , 0.        , 0.        , 0.        ,\n",
       "         0.        , 0.        , 0.        , 2.41349478, 0.        ],\n",
       "        [0.        , 0.        , 0.        , 0.        , 0.        ,\n",
       "         0.        , 0.        , 3.42053581, 0.        , 0.        ,\n",
       "         0.        , 0.        , 0.        , 0.        , 0.        ],\n",
       "        [0.        , 0.        , 0.        , 0.        , 0.        ,\n",
       "         0.        , 0.        , 0.        , 1.74188586, 0.        ,\n",
       "         0.        , 0.        , 0.        , 0.        , 0.        ],\n",
       "        [0.        , 0.        , 0.        , 0.        , 0.        ,\n",
       "         0.        , 0.        , 0.        , 0.        , 0.        ,\n",
       "         0.        , 0.        , 0.        , 0.        , 0.        ],\n",
       "        [0.        , 0.        , 0.        , 0.        , 0.        ,\n",
       "         0.        , 0.        , 3.21580893, 4.28730838, 0.        ,\n",
       "         0.        , 0.        , 0.        , 0.        , 0.        ],\n",
       "        [0.        , 0.        , 0.        , 0.        , 0.        ,\n",
       "         0.        , 0.        , 0.        , 0.        , 0.        ,\n",
       "         0.        , 2.56976284, 0.        , 0.        , 0.        ],\n",
       "        [0.        , 0.        , 0.        , 0.        , 0.        ,\n",
       "         0.        , 0.        , 0.        , 0.        , 0.        ,\n",
       "         0.        , 0.        , 0.        , 0.        , 0.        ],\n",
       "        [0.        , 2.50541115, 0.        , 0.        , 0.        ,\n",
       "         0.        , 0.        , 0.        , 0.        , 0.        ,\n",
       "         0.        , 0.        , 0.        , 0.        , 0.        ],\n",
       "        [0.        , 0.        , 0.        , 0.        , 0.        ,\n",
       "         0.        , 0.        , 0.        , 2.77352672, 0.        ,\n",
       "         0.        , 0.        , 0.        , 0.        , 0.        ],\n",
       "        [0.        , 0.        , 0.        , 0.        , 0.        ,\n",
       "         0.        , 0.        , 0.        , 0.        , 0.        ,\n",
       "         0.        , 0.        , 0.        , 0.        , 0.        ],\n",
       "        [0.        , 0.        , 0.        , 0.        , 0.        ,\n",
       "         0.        , 0.        , 0.        , 0.        , 0.        ,\n",
       "         0.        , 0.        , 0.        , 0.        , 0.        ],\n",
       "        [0.        , 0.        , 0.        , 0.        , 0.        ,\n",
       "         0.        , 0.        , 0.        , 0.        , 0.        ,\n",
       "         0.        , 0.        , 0.        , 0.        , 0.        ],\n",
       "        [0.        , 0.        , 0.        , 0.        , 0.        ,\n",
       "         0.        , 0.        , 0.        , 2.48298384, 0.        ,\n",
       "         0.        , 0.        , 0.        , 0.        , 0.        ],\n",
       "        [0.        , 0.        , 0.        , 0.        , 0.        ,\n",
       "         0.        , 0.        , 0.        , 2.13435161, 0.        ,\n",
       "         0.        , 0.        , 0.        , 0.        , 0.        ],\n",
       "        [0.        , 0.        , 0.        , 0.        , 0.        ,\n",
       "         0.        , 0.        , 0.        , 0.        , 0.        ,\n",
       "         0.        , 0.        , 0.        , 0.        , 0.        ],\n",
       "        [0.        , 0.        , 0.        , 0.        , 0.        ,\n",
       "         0.        , 0.        , 3.30493312, 2.64783013, 0.        ,\n",
       "         0.        , 0.        , 0.        , 0.        , 0.        ],\n",
       "        [0.        , 0.        , 0.        , 0.        , 0.        ,\n",
       "         0.        , 0.        , 0.        , 1.93755688, 0.        ,\n",
       "         0.        , 0.        , 0.        , 0.        , 0.        ],\n",
       "        [0.        , 0.        , 0.        , 0.        , 0.        ,\n",
       "         0.        , 0.        , 0.        , 0.        , 0.        ,\n",
       "         0.        , 0.        , 0.        , 0.        , 0.        ],\n",
       "        [0.        , 0.        , 0.        , 0.        , 0.        ,\n",
       "         0.        , 0.        , 0.        , 0.        , 0.        ,\n",
       "         0.        , 0.        , 0.        , 0.        , 0.        ],\n",
       "        [0.        , 0.        , 0.        , 2.17064959, 0.        ,\n",
       "         0.        , 0.        , 0.        , 0.        , 0.        ,\n",
       "         0.        , 0.        , 0.        , 0.        , 0.        ],\n",
       "        [0.        , 0.        , 0.        , 0.        , 0.        ,\n",
       "         0.        , 0.        , 2.63451923, 0.        , 0.        ,\n",
       "         0.        , 0.        , 0.        , 0.        , 0.        ],\n",
       "        [0.        , 0.        , 0.        , 0.        , 0.        ,\n",
       "         0.        , 0.        , 0.        , 0.        , 0.        ,\n",
       "         0.        , 0.        , 0.        , 0.        , 0.        ],\n",
       "        [0.        , 0.        , 0.        , 0.        , 0.        ,\n",
       "         0.        , 0.        , 0.        , 2.547769  , 0.        ,\n",
       "         0.        , 0.        , 0.        , 0.        , 0.        ],\n",
       "        [0.        , 0.        , 0.        , 0.        , 0.        ,\n",
       "         0.        , 0.        , 0.        , 0.        , 0.        ,\n",
       "         0.        , 0.        , 0.        , 0.        , 0.        ],\n",
       "        [0.        , 0.        , 0.        , 0.        , 0.        ,\n",
       "         0.        , 0.        , 0.        , 0.        , 0.        ,\n",
       "         0.        , 0.        , 0.        , 0.        , 0.        ],\n",
       "        [0.        , 0.        , 0.        , 0.        , 0.        ,\n",
       "         0.        , 0.        , 0.        , 0.        , 0.        ,\n",
       "         0.        , 0.        , 0.        , 0.        , 0.        ],\n",
       "        [0.        , 0.        , 0.        , 0.        , 0.        ,\n",
       "         0.        , 0.        , 0.        , 0.        , 0.        ,\n",
       "         0.        , 0.        , 0.        , 0.        , 0.        ],\n",
       "        [0.        , 3.02009202, 0.        , 0.        , 0.        ,\n",
       "         0.        , 0.        , 0.        , 0.        , 0.        ,\n",
       "         0.        , 0.        , 0.        , 2.37458837, 0.        ],\n",
       "        [0.        , 0.        , 0.        , 0.        , 0.        ,\n",
       "         0.        , 0.        , 0.        , 0.        , 0.        ,\n",
       "         0.        , 0.        , 0.        , 0.        , 0.        ],\n",
       "        [0.        , 2.6309242 , 0.        , 0.        , 0.        ,\n",
       "         0.        , 0.        , 2.00731416, 0.        , 0.        ,\n",
       "         0.        , 0.        , 0.        , 0.        , 0.        ],\n",
       "        [0.        , 0.        , 0.        , 0.        , 0.        ,\n",
       "         0.        , 0.        , 2.4941233 , 0.        , 0.        ,\n",
       "         0.        , 0.        , 0.        , 0.        , 0.        ]])"
      ]
     },
     "execution_count": 93,
     "metadata": {},
     "output_type": "execute_result"
    }
   ],
   "source": [
    "train_ad.X[:50,-15:].todense()"
   ]
  },
  {
   "cell_type": "code",
   "execution_count": 28,
   "id": "8ad6dcb6-4b74-484e-a48d-0f17ab926319",
   "metadata": {},
   "outputs": [],
   "source": [
    "from scipy import sparse, io\n"
   ]
  },
  {
   "cell_type": "code",
   "execution_count": 91,
   "id": "e9b2976c-5eb8-4843-868c-3651fe0347e2",
   "metadata": {},
   "outputs": [],
   "source": [
    "sc.pp.normalize_total(train_ad, target_sum=1e4)\n",
    "sc.pp.log1p(train_ad)"
   ]
  },
  {
   "cell_type": "code",
   "execution_count": 92,
   "id": "3c13ef6a-8016-4288-b2d7-cef51df5c303",
   "metadata": {},
   "outputs": [
    {
     "data": {
      "text/plain": [
       "AnnData object with n_obs × n_vars = 30812 × 2000\n",
       "    obs: 'orig.ident', 'nCount_RNA', 'nFeature_RNA', 'n_counts', 'cell_type'\n",
       "    var: 'ensembl_id', 'features', 'highly_variable', 'highly_variable_rank', 'means', 'variances', 'variances_norm'\n",
       "    uns: 'hvg', 'log1p'"
      ]
     },
     "execution_count": 92,
     "metadata": {},
     "output_type": "execute_result"
    }
   ],
   "source": [
    "train_ad"
   ]
  },
  {
   "cell_type": "code",
   "execution_count": 94,
   "id": "cf300b52-dc5d-4113-8f83-469ad6b66301",
   "metadata": {},
   "outputs": [],
   "source": [
    "io.mmwrite(ORI_INPUT_DIR+prefix+\"_train.mtx\", train_ad.X)"
   ]
  },
  {
   "cell_type": "code",
   "execution_count": 8,
   "id": "da311e2a-a3eb-48cf-b5fe-14162c206f46",
   "metadata": {},
   "outputs": [],
   "source": [
    "#train_ad.obs[\"cell_type\"] = train_ad.obs[\"celltype\"]\n",
    "meta_df = train_ad.obs[[ 'cell_type']]"
   ]
  },
  {
   "cell_type": "code",
   "execution_count": 21,
   "id": "4fe57c97-686c-43df-85ad-89d95db68dc8",
   "metadata": {},
   "outputs": [
    {
     "data": {
      "text/html": [
       "<div>\n",
       "<style scoped>\n",
       "    .dataframe tbody tr th:only-of-type {\n",
       "        vertical-align: middle;\n",
       "    }\n",
       "\n",
       "    .dataframe tbody tr th {\n",
       "        vertical-align: top;\n",
       "    }\n",
       "\n",
       "    .dataframe thead th {\n",
       "        text-align: right;\n",
       "    }\n",
       "</style>\n",
       "<table border=\"1\" class=\"dataframe\">\n",
       "  <thead>\n",
       "    <tr style=\"text-align: right;\">\n",
       "      <th></th>\n",
       "      <th>cell_type</th>\n",
       "    </tr>\n",
       "  </thead>\n",
       "  <tbody>\n",
       "    <tr>\n",
       "      <th>P1.tr.1.AAACCTGCACATGACT-1</th>\n",
       "      <td>CD4_C8-Treg</td>\n",
       "    </tr>\n",
       "    <tr>\n",
       "      <th>P1.tr.1.AAACCTGCAGATCGGA-1</th>\n",
       "      <td>CD4_C8-Treg</td>\n",
       "    </tr>\n",
       "    <tr>\n",
       "      <th>P1.tr.1.AAACCTGGTCGGATCC-1</th>\n",
       "      <td>CD4_C8-Treg</td>\n",
       "    </tr>\n",
       "    <tr>\n",
       "      <th>P1.tr.1.AAACCTGTCTGTCAAG-1</th>\n",
       "      <td>NA</td>\n",
       "    </tr>\n",
       "    <tr>\n",
       "      <th>P1.tr.1.AAACGGGGTAGTACCT-1</th>\n",
       "      <td>CD4_C8-Treg</td>\n",
       "    </tr>\n",
       "  </tbody>\n",
       "</table>\n",
       "</div>"
      ],
      "text/plain": [
       "                              cell_type\n",
       "P1.tr.1.AAACCTGCACATGACT-1  CD4_C8-Treg\n",
       "P1.tr.1.AAACCTGCAGATCGGA-1  CD4_C8-Treg\n",
       "P1.tr.1.AAACCTGGTCGGATCC-1  CD4_C8-Treg\n",
       "P1.tr.1.AAACCTGTCTGTCAAG-1           NA\n",
       "P1.tr.1.AAACGGGGTAGTACCT-1  CD4_C8-Treg"
      ]
     },
     "execution_count": 21,
     "metadata": {},
     "output_type": "execute_result"
    }
   ],
   "source": [
    "meta_df.head()"
   ]
  },
  {
   "cell_type": "code",
   "execution_count": 10,
   "id": "e85ed273-b2e4-4978-ba91-81f64baf1d2f",
   "metadata": {},
   "outputs": [
    {
     "data": {
      "text/plain": [
       "{'CD4_C1-Naive',\n",
       " 'CD4_C2-Tcm',\n",
       " 'CD4_C3-Tem',\n",
       " 'CD4_C4-CD69',\n",
       " 'CD4_C5-ISG15',\n",
       " 'CD4_C6-RPL',\n",
       " 'CD4_C7-Th1-like',\n",
       " 'CD4_C8-Treg',\n",
       " 'CD4_C9-Prolif.',\n",
       " 'NA',\n",
       " 'Non-exhausted',\n",
       " 'Prolif.',\n",
       " 'Tex',\n",
       " 'XCL1'}"
      ]
     },
     "execution_count": 10,
     "metadata": {},
     "output_type": "execute_result"
    }
   ],
   "source": [
    "set(list(meta_df['cell_type']))"
   ]
  },
  {
   "cell_type": "code",
   "execution_count": 15,
   "id": "5c9127e1-2542-4217-b724-5058178337eb",
   "metadata": {},
   "outputs": [
    {
     "data": {
      "text/plain": [
       "True"
      ]
     },
     "execution_count": 15,
     "metadata": {},
     "output_type": "execute_result"
    }
   ],
   "source": [
    "set(list(test_ad.obs[['cell_type']]['cell_type'])) == set(list(meta_df['cell_type']))"
   ]
  },
  {
   "cell_type": "code",
   "execution_count": 97,
   "id": "2097a536-71d7-4b77-a556-de2593785a60",
   "metadata": {},
   "outputs": [],
   "source": [
    "meta_df.to_csv(ORI_INPUT_DIR+prefix+\"_train_meta.csv\", index=True)"
   ]
  },
  {
   "cell_type": "code",
   "execution_count": 98,
   "id": "4d04aaae-588c-492d-a274-cc74dcc58fd5",
   "metadata": {},
   "outputs": [],
   "source": [
    "train_ad.var['gene_name'] = train_ad.var_names.tolist()\n",
    "train_ad.var[['gene_name']].to_csv(ORI_INPUT_DIR+prefix+\"_train_genes.csv\", index=True)"
   ]
  },
  {
   "cell_type": "code",
   "execution_count": 99,
   "id": "c7702efd-63f1-47c0-adb3-bd8417cc9f6b",
   "metadata": {},
   "outputs": [
    {
     "data": {
      "text/html": [
       "<div>\n",
       "<style scoped>\n",
       "    .dataframe tbody tr th:only-of-type {\n",
       "        vertical-align: middle;\n",
       "    }\n",
       "\n",
       "    .dataframe tbody tr th {\n",
       "        vertical-align: top;\n",
       "    }\n",
       "\n",
       "    .dataframe thead th {\n",
       "        text-align: right;\n",
       "    }\n",
       "</style>\n",
       "<table border=\"1\" class=\"dataframe\">\n",
       "  <thead>\n",
       "    <tr style=\"text-align: right;\">\n",
       "      <th></th>\n",
       "      <th>gene_name</th>\n",
       "    </tr>\n",
       "    <tr>\n",
       "      <th>features</th>\n",
       "      <th></th>\n",
       "    </tr>\n",
       "  </thead>\n",
       "  <tbody>\n",
       "    <tr>\n",
       "      <th>HES4</th>\n",
       "      <td>HES4</td>\n",
       "    </tr>\n",
       "    <tr>\n",
       "      <th>ISG15</th>\n",
       "      <td>ISG15</td>\n",
       "    </tr>\n",
       "    <tr>\n",
       "      <th>TNFRSF18</th>\n",
       "      <td>TNFRSF18</td>\n",
       "    </tr>\n",
       "    <tr>\n",
       "      <th>TNFRSF4</th>\n",
       "      <td>TNFRSF4</td>\n",
       "    </tr>\n",
       "    <tr>\n",
       "      <th>PRDM16</th>\n",
       "      <td>PRDM16</td>\n",
       "    </tr>\n",
       "  </tbody>\n",
       "</table>\n",
       "</div>"
      ],
      "text/plain": [
       "         gene_name\n",
       "features          \n",
       "HES4          HES4\n",
       "ISG15        ISG15\n",
       "TNFRSF18  TNFRSF18\n",
       "TNFRSF4    TNFRSF4\n",
       "PRDM16      PRDM16"
      ]
     },
     "execution_count": 99,
     "metadata": {},
     "output_type": "execute_result"
    }
   ],
   "source": [
    "train_ad.var[['gene_name']].head()"
   ]
  },
  {
   "cell_type": "code",
   "execution_count": 17,
   "id": "c8439db0-5a34-47f3-aa19-2462af363440",
   "metadata": {},
   "outputs": [
    {
     "data": {
      "text/plain": [
       "AnnData object with n_obs × n_vars = 38515 × 2000\n",
       "    obs: 'orig.ident', 'nCount_RNA', 'nFeature_RNA', 'n_counts', 'cell_type'\n",
       "    var: 'ensembl_id', 'features', 'highly_variable', 'highly_variable_rank', 'means', 'variances', 'variances_norm'\n",
       "    uns: 'hvg'"
      ]
     },
     "execution_count": 17,
     "metadata": {},
     "output_type": "execute_result"
    }
   ],
   "source": [
    "test_ad"
   ]
  },
  {
   "cell_type": "code",
   "execution_count": 101,
   "id": "ca88f4d7-ff2a-4687-80d4-7c9eb5760904",
   "metadata": {},
   "outputs": [],
   "source": [
    "sc.pp.normalize_total(test_ad, target_sum=1e4)\n",
    "sc.pp.log1p(test_ad)"
   ]
  },
  {
   "cell_type": "code",
   "execution_count": 104,
   "id": "64e9745f-4908-46bb-be8c-22fdab43d39c",
   "metadata": {},
   "outputs": [],
   "source": [
    "io.mmwrite(ORI_INPUT_DIR+prefix+\"_test.mtx\", test_ad.X)#.layers['logcounts'])\n",
    "#test_ad.obs[\"cell_type\"] = test_ad.obs[\"celltype\"]\n",
    "meta_df = test_ad.obs[['cell_type']]\n",
    "meta_df = test_ad.obs[['cell_type']]\n",
    "meta_df.to_csv(ORI_INPUT_DIR+prefix+\"_test_meta.csv\", index=True)\n",
    "test_ad.var['gene_name'] = test_ad.var_names.tolist()\n",
    "test_ad.var[['gene_name']].to_csv(ORI_INPUT_DIR+prefix+\"_test_genes.csv\", index=True)"
   ]
  },
  {
   "cell_type": "code",
   "execution_count": 16,
   "id": "110089fb-9be3-4a91-83db-32475473fe86",
   "metadata": {},
   "outputs": [
    {
     "data": {
      "text/plain": [
       "69327"
      ]
     },
     "execution_count": 16,
     "metadata": {},
     "output_type": "execute_result"
    }
   ],
   "source": [
    "30812+38515"
   ]
  },
  {
   "cell_type": "code",
   "execution_count": null,
   "id": "2ebfe18f-78fa-4d93-92ec-adef31578aa7",
   "metadata": {},
   "outputs": [],
   "source": []
  }
 ],
 "metadata": {
  "kernelspec": {
   "display_name": "Python 3 (ipykernel)",
   "language": "python",
   "name": "python3"
  },
  "language_info": {
   "codemirror_mode": {
    "name": "ipython",
    "version": 3
   },
   "file_extension": ".py",
   "mimetype": "text/x-python",
   "name": "python",
   "nbconvert_exporter": "python",
   "pygments_lexer": "ipython3",
   "version": "3.10.13"
  }
 },
 "nbformat": 4,
 "nbformat_minor": 5
}
